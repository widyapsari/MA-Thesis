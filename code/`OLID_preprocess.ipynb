{
 "cells": [
  {
   "cell_type": "code",
   "execution_count": 2,
   "id": "f7b05b29-208b-4812-a6a2-5b8a61fa6084",
   "metadata": {
    "tags": []
   },
   "outputs": [],
   "source": [
    "import pandas as pd\n",
    "import re"
   ]
  },
  {
   "cell_type": "code",
   "execution_count": 14,
   "id": "554c388d-926b-4afc-a582-f9cb80cf8ae9",
   "metadata": {
    "tags": []
   },
   "outputs": [],
   "source": [
    "def clean_tweet(tweet):\n",
    "    \"\"\"\n",
    "    This function is used to clean the sentence froom column \"tweet\" train and test dataframe\n",
    "    :type tweet: string\n",
    "    \"\"\"\n",
    "    tweet = re.sub(r\"@[A-Za-z0-9]+\", '', tweet)\n",
    "    tweet = re.sub(\"#\", \"\", tweet)\n",
    "    tweet = re.sub(r\"[^a-zA-Z\\s]\", \"\", tweet) #Removes also inner *, but also emoticones\n",
    "    tweet = tweet.lower()\n",
    "    \n",
    "#     # Remove stopwords\n",
    "#     stop_words = set(stopwords.words('english'))  \n",
    "#     words = tweet.split()\n",
    "#     words = [word for word in words if word not in stop_words]\n",
    "    \n",
    "#     tweet = ' '.join(words)\n",
    "    return tweet"
   ]
  },
  {
   "cell_type": "code",
   "execution_count": 4,
   "id": "95b8d81b-ee36-4689-a64f-432963572c5d",
   "metadata": {
    "tags": []
   },
   "outputs": [
    {
     "data": {
      "text/html": [
       "<div>\n",
       "<style scoped>\n",
       "    .dataframe tbody tr th:only-of-type {\n",
       "        vertical-align: middle;\n",
       "    }\n",
       "\n",
       "    .dataframe tbody tr th {\n",
       "        vertical-align: top;\n",
       "    }\n",
       "\n",
       "    .dataframe thead th {\n",
       "        text-align: right;\n",
       "    }\n",
       "</style>\n",
       "<table border=\"1\" class=\"dataframe\">\n",
       "  <thead>\n",
       "    <tr style=\"text-align: right;\">\n",
       "      <th></th>\n",
       "      <th>tweet</th>\n",
       "      <th>label</th>\n",
       "    </tr>\n",
       "  </thead>\n",
       "  <tbody>\n",
       "    <tr>\n",
       "      <th>0</th>\n",
       "      <td>@USER She should ask a few native Americans wh...</td>\n",
       "      <td>OFF</td>\n",
       "    </tr>\n",
       "    <tr>\n",
       "      <th>1</th>\n",
       "      <td>@USER @USER Go home you’re drunk!!! @USER #MAG...</td>\n",
       "      <td>OFF</td>\n",
       "    </tr>\n",
       "    <tr>\n",
       "      <th>2</th>\n",
       "      <td>Amazon is investigating Chinese employees who ...</td>\n",
       "      <td>NOT</td>\n",
       "    </tr>\n",
       "    <tr>\n",
       "      <th>3</th>\n",
       "      <td>@USER Someone should'veTaken\" this piece of sh...</td>\n",
       "      <td>OFF</td>\n",
       "    </tr>\n",
       "    <tr>\n",
       "      <th>4</th>\n",
       "      <td>@USER @USER Obama wanted liberals &amp;amp; illega...</td>\n",
       "      <td>NOT</td>\n",
       "    </tr>\n",
       "  </tbody>\n",
       "</table>\n",
       "</div>"
      ],
      "text/plain": [
       "                                               tweet label\n",
       "0  @USER She should ask a few native Americans wh...   OFF\n",
       "1  @USER @USER Go home you’re drunk!!! @USER #MAG...   OFF\n",
       "2  Amazon is investigating Chinese employees who ...   NOT\n",
       "3  @USER Someone should'veTaken\" this piece of sh...   OFF\n",
       "4  @USER @USER Obama wanted liberals &amp; illega...   NOT"
      ]
     },
     "execution_count": 4,
     "metadata": {},
     "output_type": "execute_result"
    }
   ],
   "source": [
    "## drop unnecessary column from OLID train dataset##\n",
    "train = pd.read_csv(\"./olid-training-v1.0.tsv\", delimiter=\"\\t\")\n",
    "train = train.drop([\"subtask_b\",\"subtask_c\",\"id\"], axis=1)\n",
    "train = train.rename(columns={\"subtask_a\":\"label\"})\n",
    "train.head()"
   ]
  },
  {
   "cell_type": "code",
   "execution_count": 12,
   "id": "9056aea9-0311-4884-bb03-d0d8fc2fc082",
   "metadata": {
    "tags": []
   },
   "outputs": [
    {
     "data": {
      "text/html": [
       "<div>\n",
       "<style scoped>\n",
       "    .dataframe tbody tr th:only-of-type {\n",
       "        vertical-align: middle;\n",
       "    }\n",
       "\n",
       "    .dataframe tbody tr th {\n",
       "        vertical-align: top;\n",
       "    }\n",
       "\n",
       "    .dataframe thead th {\n",
       "        text-align: right;\n",
       "    }\n",
       "</style>\n",
       "<table border=\"1\" class=\"dataframe\">\n",
       "  <thead>\n",
       "    <tr style=\"text-align: right;\">\n",
       "      <th></th>\n",
       "      <th>tweet</th>\n",
       "      <th>label</th>\n",
       "    </tr>\n",
       "  </thead>\n",
       "  <tbody>\n",
       "    <tr>\n",
       "      <th>0</th>\n",
       "      <td>#WhoIsQ #WheresTheServer #DumpNike #DECLASFISA...</td>\n",
       "      <td>OFF</td>\n",
       "    </tr>\n",
       "    <tr>\n",
       "      <th>1</th>\n",
       "      <td>#ConstitutionDay is revered by Conservatives, ...</td>\n",
       "      <td>NOT</td>\n",
       "    </tr>\n",
       "    <tr>\n",
       "      <th>2</th>\n",
       "      <td>#FOXNews #NRA #MAGA #POTUS #TRUMP #2ndAmendmen...</td>\n",
       "      <td>NOT</td>\n",
       "    </tr>\n",
       "    <tr>\n",
       "      <th>3</th>\n",
       "      <td>#Watching #Boomer getting the news that she is...</td>\n",
       "      <td>NOT</td>\n",
       "    </tr>\n",
       "    <tr>\n",
       "      <th>4</th>\n",
       "      <td>#NoPasaran: Unity demo to oppose the far-right...</td>\n",
       "      <td>OFF</td>\n",
       "    </tr>\n",
       "  </tbody>\n",
       "</table>\n",
       "</div>"
      ],
      "text/plain": [
       "                                               tweet label\n",
       "0  #WhoIsQ #WheresTheServer #DumpNike #DECLASFISA...   OFF\n",
       "1  #ConstitutionDay is revered by Conservatives, ...   NOT\n",
       "2  #FOXNews #NRA #MAGA #POTUS #TRUMP #2ndAmendmen...   NOT\n",
       "3  #Watching #Boomer getting the news that she is...   NOT\n",
       "4  #NoPasaran: Unity demo to oppose the far-right...   OFF"
      ]
     },
     "execution_count": 12,
     "metadata": {},
     "output_type": "execute_result"
    }
   ],
   "source": [
    "## merge two dataframes (tweet and label) to create test dataset ##\n",
    "test_set = pd.read_csv(\"testset-levela.tsv\", delimiter=\"\\t\")\n",
    "\n",
    "column_names = [\"id\",\"label\"]\n",
    "label = pd.read_csv(\"labels-levela.csv\", names = column_names)\n",
    "\n",
    "df1 = test_set\n",
    "df2 = label\n",
    "test = pd.merge(df1, df2, on=\"id\", how='outer')\n",
    "test = test.drop(\"id\", axis=1)\n",
    "test.head()"
   ]
  },
  {
   "cell_type": "code",
   "execution_count": 18,
   "id": "92b46e24-f940-49bc-9ed3-33a4859f30a6",
   "metadata": {
    "tags": []
   },
   "outputs": [],
   "source": [
    "# save preprocessed dataset # \n",
    "train['tweet'] = train['tweet'].apply(clean_tweet)\n",
    "test['tweet'] = test['tweet'].apply(clean_tweet)\n",
    "\n",
    "train.to_csv(\"../data/OLID_train.csv\", index=False)\n",
    "test.to_csv(\"../data/OLID_test.csv\", index=False)\n",
    "\n",
    "#save dataset with binary label 0 1 for BERT\n",
    "train['label'] = train['label'].replace({'NOT': 0, 'OFF': 1})\n",
    "test['label'] = test['label'].replace({'NOT': 0, 'OFF': 1})\n",
    "\n",
    "train.to_csv(\"../data/OLID_train_bert.csv\", index=False)\n",
    "test.to_csv(\"../data/OLID_test_bert.csv\", index=False)"
   ]
  },
  {
   "cell_type": "code",
   "execution_count": null,
   "id": "c3d676b4-e291-405c-8b59-6865ebfca003",
   "metadata": {},
   "outputs": [],
   "source": []
  }
 ],
 "metadata": {
  "kernelspec": {
   "display_name": "thesis",
   "language": "python",
   "name": "thesis"
  },
  "language_info": {
   "codemirror_mode": {
    "name": "ipython",
    "version": 3
   },
   "file_extension": ".py",
   "mimetype": "text/x-python",
   "name": "python",
   "nbconvert_exporter": "python",
   "pygments_lexer": "ipython3",
   "version": "3.9.18"
  }
 },
 "nbformat": 4,
 "nbformat_minor": 5
}
